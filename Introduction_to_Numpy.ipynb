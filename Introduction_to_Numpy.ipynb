{
  "nbformat": 4,
  "nbformat_minor": 0,
  "metadata": {
    "colab": {
      "name": "Introduction_to_Linear_Algebra.ipynb",
      "provenance": [],
      "collapsed_sections": [],
      "include_colab_link": true
    },
    "kernelspec": {
      "name": "python3",
      "display_name": "Python 3"
    }
  },
  "cells": [
    {
      "cell_type": "markdown",
      "metadata": {
        "id": "view-in-github",
        "colab_type": "text"
      },
      "source": [
        "<a href=\"https://colab.research.google.com/github/aminfazy/FPD_IITP_21/blob/main/Introduction_to_Numpy.ipynb\" target=\"_parent\"><img src=\"https://colab.research.google.com/assets/colab-badge.svg\" alt=\"Open In Colab\"/></a>"
      ]
    },
    {
      "cell_type": "markdown",
      "metadata": {
        "id": "BqzGOK2hgYS9"
      },
      "source": [
        "# Numpy\n",
        "* Details @ [Numpy web page](https://numpy.org/) and @ [Github page](https://cs231n.github.io/python-numpy-tutorial/) \n",
        "\n",
        "* Numpy is the core library for scientific computing in Python.\n",
        "\n",
        "* It provides a high-performance multidimensional array object, and tools for working with these arrays.\n",
        "\n",
        "* Various routines are provided for fast operations on arrays, including mathematical, logical, shape manipulation, sorting, selecting, I/O, discrete Fourier transforms, basic linear algebra, basic statistical operations, random simulation and much more. \n"
      ]
    },
    {
      "cell_type": "code",
      "metadata": {
        "id": "yAk8t3VJt-cr"
      },
      "source": [
        "import numpy as np"
      ],
      "execution_count": 1,
      "outputs": []
    },
    {
      "cell_type": "code",
      "source": [
        "na = [[1,2],[2,2],[2,3]]\n",
        "len(na)"
      ],
      "metadata": {
        "id": "SMpncMZgijQV",
        "outputId": "1980ea59-99fb-4c82-cb5a-96343b516aaf",
        "colab": {
          "base_uri": "https://localhost:8080/"
        }
      },
      "execution_count": 21,
      "outputs": [
        {
          "output_type": "execute_result",
          "data": {
            "text/plain": [
              "3"
            ]
          },
          "metadata": {},
          "execution_count": 21
        }
      ]
    },
    {
      "cell_type": "code",
      "source": [
        "pa = np.array([[[1,1],[5,3],[3,4]],[[2,6],[4,8],[2,3]],[[2,2],[5,4],[3,6]]])\n",
        "pa.shape"
      ],
      "metadata": {
        "id": "GozCk9LLioxF",
        "outputId": "497499e4-08f7-425b-ca31-c316c16dd37a",
        "colab": {
          "base_uri": "https://localhost:8080/"
        }
      },
      "execution_count": 26,
      "outputs": [
        {
          "output_type": "execute_result",
          "data": {
            "text/plain": [
              "(3, 3, 2)"
            ]
          },
          "metadata": {},
          "execution_count": 26
        }
      ]
    },
    {
      "cell_type": "code",
      "source": [
        "ca = pa.reshape(-1)\n",
        "ca"
      ],
      "metadata": {
        "id": "PcO6Z5Q-mmyB",
        "outputId": "cb37f4c9-a5e6-47c4-ff23-52512a8033d6",
        "colab": {
          "base_uri": "https://localhost:8080/"
        }
      },
      "execution_count": 30,
      "outputs": [
        {
          "output_type": "execute_result",
          "data": {
            "text/plain": [
              "array([1, 1, 5, 3, 3, 4, 2, 6, 4, 8, 2, 3, 2, 2, 5, 4, 3, 6])"
            ]
          },
          "metadata": {},
          "execution_count": 30
        }
      ]
    },
    {
      "cell_type": "code",
      "source": [
        "a=np.array([[2,3,4,5],[5,4,6,3],[7,3,6,1],[7,5,3,9]])\n",
        "b=np.array([[3,4,6,7],[8,4,2,6],[8,5,9,1],[6,2,8,4]])\n",
        "c=a*b\n",
        "c"
      ],
      "metadata": {
        "id": "19i9jcvonuY4",
        "outputId": "edc1175e-fbd4-4e35-d1c6-6d7c3166cd7c",
        "colab": {
          "base_uri": "https://localhost:8080/"
        }
      },
      "execution_count": 34,
      "outputs": [
        {
          "output_type": "execute_result",
          "data": {
            "text/plain": [
              "array([[ 6, 12, 24, 35],\n",
              "       [40, 16, 12, 18],\n",
              "       [56, 15, 54,  1],\n",
              "       [42, 10, 24, 36]])"
            ]
          },
          "metadata": {},
          "execution_count": 34
        }
      ]
    },
    {
      "cell_type": "code",
      "metadata": {
        "id": "zaQ3tLdMuP8V"
      },
      "source": [
        "# define arrays are to be used for the various operations in following cells\n",
        "a=np.array([[2,3,4,5],[5,4,6,3],[7,3,6,1],[7,5,3,9]])\n",
        "b=np.array([[3,4,6,7],[8,4,2,6],[8,5,9,1],[6,2,8,4]])\n",
        "\n",
        "c=np.array([[2,3,4,5],[7,3,6,1],[7,5,3,9]])\n",
        "d=np.array([[3,4,6,7],[8,4,2,6],[8,5,9,1]])\n",
        "\n",
        "e=np.array([[4,6,7],[8,2,6],[8,5,1],[2,8,4]])"
      ],
      "execution_count": 32,
      "outputs": []
    },
    {
      "cell_type": "code",
      "metadata": {
        "id": "d6IMeMNgurFM",
        "outputId": "39d3a56d-ad9c-4e64-e3a9-130d21a6b0e4",
        "colab": {
          "base_uri": "https://localhost:8080/"
        }
      },
      "source": [
        "# matrix multiplication\n",
        "\n",
        "out = np.matmul(a,b) # np.matnul and np.dot are same for 2 D arrays\n",
        "print(out)"
      ],
      "execution_count": 35,
      "outputs": [
        {
          "output_type": "stream",
          "name": "stdout",
          "text": [
            "[[ 92  50  94  56]\n",
            " [113  72 116  77]\n",
            " [ 99  72 110  77]\n",
            " [139  81 151 118]]\n"
          ]
        }
      ]
    },
    {
      "cell_type": "code",
      "metadata": {
        "id": "BGk_dtMkvM0s",
        "outputId": "56a807a1-564d-466f-bcd6-32170b8cc633",
        "colab": {
          "base_uri": "https://localhost:8080/"
        }
      },
      "source": [
        "# transpose operation\n",
        "\n",
        "print(a)\n",
        "out = np.transpose(a)\n",
        "print(out)"
      ],
      "execution_count": 36,
      "outputs": [
        {
          "output_type": "stream",
          "name": "stdout",
          "text": [
            "[[2 3 4 5]\n",
            " [5 4 6 3]\n",
            " [7 3 6 1]\n",
            " [7 5 3 9]]\n",
            "[[2 5 7 7]\n",
            " [3 4 3 5]\n",
            " [4 6 6 3]\n",
            " [5 3 1 9]]\n"
          ]
        }
      ]
    },
    {
      "cell_type": "code",
      "metadata": {
        "id": "jtZDsL52vzEv",
        "outputId": "510efb3d-8fb2-4eb1-c771-5ef75a88fd02",
        "colab": {
          "base_uri": "https://localhost:8080/"
        }
      },
      "source": [
        "# Power of Matrix\n",
        "\n",
        "print(a)\n",
        "out = np.linalg.matrix_power(a,2)\n",
        "print(out)"
      ],
      "execution_count": 38,
      "outputs": [
        {
          "output_type": "stream",
          "name": "stdout",
          "text": [
            "[[2 3 4 5]\n",
            " [5 4 6 3]\n",
            " [7 3 6 1]\n",
            " [7 5 3 9]]\n",
            "[[ 82  55  65  68]\n",
            " [ 93  64  89  70]\n",
            " [ 78  56  85  59]\n",
            " [123  95 103 134]]\n"
          ]
        }
      ]
    },
    {
      "cell_type": "code",
      "metadata": {
        "id": "cPTIiDLx6W9L",
        "outputId": "799d2a90-9bc9-41e0-cbd4-e2381db670af",
        "colab": {
          "base_uri": "https://localhost:8080/"
        }
      },
      "source": [
        "# Determinant of a Matrix\n",
        "\n",
        "print(a)\n",
        "out = np.linalg.det(a)\n",
        "print(out)\n",
        "\n",
        "print(b)\n",
        "out = np.linalg.det(b)\n",
        "print(out)"
      ],
      "execution_count": 39,
      "outputs": [
        {
          "output_type": "stream",
          "name": "stdout",
          "text": [
            "[[2 3 4 5]\n",
            " [5 4 6 3]\n",
            " [7 3 6 1]\n",
            " [7 5 3 9]]\n",
            "-153.0000000000001\n",
            "[[3 4 6 7]\n",
            " [8 4 2 6]\n",
            " [8 5 9 1]\n",
            " [6 2 8 4]]\n",
            "-1324.0000000000002\n"
          ]
        }
      ]
    },
    {
      "cell_type": "code",
      "metadata": {
        "id": "-zEsyA4_45-c",
        "outputId": "e8da6b53-8bbb-481f-afcc-ae7aab4394fe",
        "colab": {
          "base_uri": "https://localhost:8080/"
        }
      },
      "source": [
        "# Norm of matrix\n",
        "\n",
        "print(a)\n",
        "out = np.linalg.norm(a)\n",
        "print(out)"
      ],
      "execution_count": 40,
      "outputs": [
        {
          "output_type": "stream",
          "name": "stdout",
          "text": [
            "[[2 3 4 5]\n",
            " [5 4 6 3]\n",
            " [7 3 6 1]\n",
            " [7 5 3 9]]\n",
            "19.974984355438178\n"
          ]
        }
      ]
    },
    {
      "cell_type": "code",
      "metadata": {
        "id": "yiLEnCks8CZm",
        "outputId": "04efb619-ad4e-4d55-a3d1-90e37f275ecb",
        "colab": {
          "base_uri": "https://localhost:8080/"
        }
      },
      "source": [
        "# Trace of Matrix\n",
        "\n",
        "print(a)\n",
        "out = np.trace(a)\n",
        "print(out)\n",
        "\n",
        "print(e)\n",
        "out = np.trace(e)\n",
        "print(out)\n"
      ],
      "execution_count": 41,
      "outputs": [
        {
          "output_type": "stream",
          "name": "stdout",
          "text": [
            "[[2 3 4 5]\n",
            " [5 4 6 3]\n",
            " [7 3 6 1]\n",
            " [7 5 3 9]]\n",
            "21\n",
            "[[4 6 7]\n",
            " [8 2 6]\n",
            " [8 5 1]\n",
            " [2 8 4]]\n",
            "7\n"
          ]
        }
      ]
    },
    {
      "cell_type": "code",
      "metadata": {
        "id": "ZQFkgYnS87pC",
        "outputId": "38623177-9a63-4742-8be8-db2c2a142dce",
        "colab": {
          "base_uri": "https://localhost:8080/"
        }
      },
      "source": [
        "# Inverse of a Square Matrix\n",
        "\n",
        "print(a)\n",
        "out = np.linalg.inv(a)\n",
        "print(out)\n"
      ],
      "execution_count": 42,
      "outputs": [
        {
          "output_type": "stream",
          "name": "stdout",
          "text": [
            "[[2 3 4 5]\n",
            " [5 4 6 3]\n",
            " [7 3 6 1]\n",
            " [7 5 3 9]]\n",
            "[[-0.05882353 -0.26143791  0.25490196  0.09150327]\n",
            " [-0.94117647  1.48366013 -0.92156863  0.13071895]\n",
            " [ 0.47058824 -0.35294118  0.29411765 -0.17647059]\n",
            " [ 0.41176471 -0.50326797  0.21568627  0.02614379]]\n"
          ]
        }
      ]
    },
    {
      "cell_type": "code",
      "metadata": {
        "id": "F8oXtR3v94Jj",
        "outputId": "13503874-f84a-4d4c-9ca4-9811b4af7acf",
        "colab": {
          "base_uri": "https://localhost:8080/"
        }
      },
      "source": [
        "# Inverse of a General Matrix (Pseudo-inverse)\n",
        "\n",
        "print(e)\n",
        "out = np.linalg.pinv(e)\n",
        "print(out)\n",
        "\n"
      ],
      "execution_count": 43,
      "outputs": [
        {
          "output_type": "stream",
          "name": "stdout",
          "text": [
            "[[4 6 7]\n",
            " [8 2 6]\n",
            " [8 5 1]\n",
            " [2 8 4]]\n",
            "[[-0.03678043  0.05846663  0.09680761 -0.04753609]\n",
            " [ 0.00558298 -0.08714837  0.05772672  0.10652066]\n",
            " [ 0.09682106  0.08383894 -0.12901403 -0.01294176]]\n"
          ]
        }
      ]
    },
    {
      "cell_type": "code",
      "metadata": {
        "id": "bUVc1pp-7Ycc",
        "outputId": "d43e6462-24e7-4af9-81fc-dbb1bd39826b",
        "colab": {
          "base_uri": "https://localhost:8080/"
        }
      },
      "source": [
        "# Rank of Matrix\n",
        "\n",
        "print(a)\n",
        "out = np.linalg.matrix_rank(a)\n",
        "print(out)\n",
        "\n",
        "print(e)\n",
        "out = np.linalg.matrix_rank(e)\n",
        "print(out)"
      ],
      "execution_count": 44,
      "outputs": [
        {
          "output_type": "stream",
          "name": "stdout",
          "text": [
            "[[2 3 4 5]\n",
            " [5 4 6 3]\n",
            " [7 3 6 1]\n",
            " [7 5 3 9]]\n",
            "4\n",
            "[[4 6 7]\n",
            " [8 2 6]\n",
            " [8 5 1]\n",
            " [2 8 4]]\n",
            "3\n"
          ]
        }
      ]
    },
    {
      "cell_type": "code",
      "metadata": {
        "id": "foJrjbK7xEB9",
        "outputId": "879a733f-7f84-4bd2-a706-e551ebf8bb37",
        "colab": {
          "base_uri": "https://localhost:8080/"
        }
      },
      "source": [
        "# Singular Value Decompostion\n",
        "\n",
        "print(c.shape)\n",
        "print(c)\n",
        "u, sigma, v = np.linalg.svd(c)\n",
        "print(u.shape, sigma.shape, v.shape)\n",
        "print(u)\n",
        "print(sigma)\n",
        "print(v)"
      ],
      "execution_count": 45,
      "outputs": [
        {
          "output_type": "stream",
          "name": "stdout",
          "text": [
            "(4, 4)\n",
            "[[ 6 12 24 35]\n",
            " [40 16 12 18]\n",
            " [56 15 54  1]\n",
            " [42 10 24 36]]\n",
            "(4, 4) (4,) (4, 4)\n",
            "[[-0.29712454  0.64556777 -0.61599272 -0.33987088]\n",
            " [-0.41334018  0.08158724  0.63962104 -0.64294505]\n",
            " [-0.6771765  -0.64608    -0.35214113  0.00304147]\n",
            " [-0.53131807  0.39895665  0.29569327  0.68636739]]\n",
            "[109.62150403  40.83721134  23.98292436   7.69852993]\n",
            "[[-0.7165893  -0.2339848  -0.56020246 -0.34340077]\n",
            " [-0.30088745  0.08204712 -0.21648605  0.92513178]\n",
            " [ 0.60827026  0.02155032 -0.79337094  0.01026772]\n",
            " [ 0.16116392 -0.96853238  0.09934557  0.16156015]]\n"
          ]
        }
      ]
    },
    {
      "cell_type": "code",
      "metadata": {
        "id": "goXR5rphzA8T",
        "outputId": "a8ba493c-bd65-495e-9b62-da9a844c11fc",
        "colab": {
          "base_uri": "https://localhost:8080/"
        }
      },
      "source": [
        "# Eigen Value Decomposition\n",
        "\n",
        "print(a)\n",
        "L, V = np.linalg.eig(a) # L eigenvalues and corresponding right eigen vectors\n",
        "print(L.shape, V.shape)\n",
        "print(L)\n",
        "print(V)"
      ],
      "execution_count": 46,
      "outputs": [
        {
          "output_type": "stream",
          "name": "stdout",
          "text": [
            "[[2 3 4 5]\n",
            " [5 4 6 3]\n",
            " [7 3 6 1]\n",
            " [7 5 3 9]]\n",
            "(4,) (4, 4)\n",
            "[18.11422957  5.28437632 -2.94191576  0.54330987]\n",
            "[[-0.39774337  0.11320089 -0.73671045  0.16985445]\n",
            " [-0.45704748 -0.38031366 -0.11251286 -0.90639932]\n",
            " [-0.39979025 -0.54503096  0.57711869  0.22244604]\n",
            " [-0.68780489  0.73857182  0.33396495  0.3163977 ]]\n"
          ]
        }
      ]
    }
  ]
}